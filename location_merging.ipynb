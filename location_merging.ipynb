{
 "cells": [
  {
   "cell_type": "code",
   "execution_count": 1,
   "metadata": {},
   "outputs": [],
   "source": [
    "import pandas as pd\n",
    "import geopandas as gpd\n",
    "\n",
    "pd.set_option('display.max_columns', 1000, 'display.width', 1000, 'display.max_rows',1000)"
   ]
  },
  {
   "cell_type": "code",
   "execution_count": 2,
   "metadata": {},
   "outputs": [],
   "source": [
    "demographic_vars = [\n",
    "    'race_percent_white', 'race_percent_black', 'race_percent_native',\n",
    "    'race_percent_asian', 'race_percent_pacific_islander', 'race_percent_hispanic',\n",
    "    'race_percent_other', 'income_percent_below_15K', 'income_percent_15K_35K',\n",
    "    'income_percent_35K_65K', 'income_percent_above_65K', 'total',\n",
    "    'male_percent', 'female_percent', 'disability_percent',\n",
    "    'male_disability_percent', 'female_disability_percent'\n",
    "]\n",
    "\n",
    "def compute_weighted_averages(group):\n",
    "    weighted_data = {}\n",
    "    weighted_data['registered_voters'] = group['registered_voters'].iloc[0]\n",
    "    weighted_data['ballots_cast'] = group['ballots_cast'].iloc[0]\n",
    "    weighted_data['voter_turnout'] = group['voter_turnout'].iloc[0]\n",
    "    weighted_data['year'] = group['year_1'].iloc[0]\n",
    "    weighted_data['is_midterm'] = group['is_midterm'].iloc[0]\n",
    "    weighted_data['name'] = group['NAME_1'].iloc[0]\n",
    "    weighted_data['type'] = group['TYPE'].iloc[0]\n",
    "    weighted_data['label'] = group['LABEL'].iloc[0]\n",
    "    weighted_data['district_1'] = group['DISTRICT_1'].iloc[0]\n",
    "    weighted_data['ward_1'] = group['WARD_1'].iloc[0]\n",
    "    weighted_data['municode_1'] = group['MUNICODE_1'].iloc[0]\n",
    "    weighted_data['mwd_nopa_1'] = group['MWD_NOPA_1'].iloc[0]\n",
    "    weighted_data['opa_muni_1'] = group['OPA_MUNI_1'].iloc[0]\n",
    "    weighted_data['mwd_pad_1'] = group['MWD_PAD_1'].iloc[0]\n",
    "    weighted_data['pseud4_12'] = group['Pseud4_12'].iloc[0]\n",
    "    weighted_data['pseudonu_5'] = group['PseudoNu_5'].iloc[0]\n",
    "    weighted_data['muni_war_1'] = group['Muni_War_1'].iloc[0]\n",
    "    for var in demographic_vars:\n",
    "        # Calculate weighted average\n",
    "        weighted_sum = (group[var] * group['area_ratio']).sum()\n",
    "        total_weight = group['area_ratio'].sum()\n",
    "        weighted_avg = weighted_sum / total_weight if total_weight != 0 else 0\n",
    "        weighted_data[var] = weighted_avg\n",
    "    # Add other aggregated fields\n",
    "    weighted_data['tracts'] = group['tract'].nunique()    \n",
    "    return pd.Series(weighted_data)\n"
   ]
  },
  {
   "cell_type": "code",
   "execution_count": 3,
   "metadata": {},
   "outputs": [],
   "source": [
    "census_tracts = gpd.read_file('tl_2024_42_tract/tl_2024_42_tract.shp')\n",
    "\n",
    "demo_data = pd.read_csv('total_demographics.csv')\n",
    "disability_data = pd.read_csv('total_disability.csv').drop(columns=['Unnamed: 0'])"
   ]
  },
  {
   "cell_type": "code",
   "execution_count": 4,
   "metadata": {},
   "outputs": [],
   "source": [
    "merged_data = pd.merge(demo_data, disability_data, on=['tract', 'year'])\n",
    "merged_data['parsed_tract'] = merged_data['tract'].apply(lambda x: x.split(', ')[0].split(';')[0])\n",
    "\n",
    "merged_data = pd.merge(merged_data, census_tracts, left_on='parsed_tract', right_on='NAMELSAD', how='left')\n",
    "merged_data = gpd.GeoDataFrame(merged_data, geometry='geometry').to_crs('EPSG:3395')\n",
    "\n",
    "precinct_data = gpd.read_file('relevant_precincts.geojson').to_crs('EPSG:3395')"
   ]
  },
  {
   "cell_type": "code",
   "execution_count": 5,
   "metadata": {},
   "outputs": [
    {
     "name": "stderr",
     "output_type": "stream",
     "text": [
      "/var/folders/73/yf0vhxc16_s7l4d4j28m32bh0000gn/T/ipykernel_86729/1122421892.py:16: DeprecationWarning: DataFrameGroupBy.apply operated on the grouping columns. This behavior is deprecated, and in a future version of pandas the grouping columns will be excluded from the operation. Either pass `include_groups=False` to exclude the groupings or explicitly select the grouping columns after groupby to silence this warning.\n",
      "  weighted_data = curr_intersection.groupby('district').apply(compute_weighted_averages).reset_index()\n",
      "/var/folders/73/yf0vhxc16_s7l4d4j28m32bh0000gn/T/ipykernel_86729/1122421892.py:16: DeprecationWarning: DataFrameGroupBy.apply operated on the grouping columns. This behavior is deprecated, and in a future version of pandas the grouping columns will be excluded from the operation. Either pass `include_groups=False` to exclude the groupings or explicitly select the grouping columns after groupby to silence this warning.\n",
      "  weighted_data = curr_intersection.groupby('district').apply(compute_weighted_averages).reset_index()\n",
      "/var/folders/73/yf0vhxc16_s7l4d4j28m32bh0000gn/T/ipykernel_86729/1122421892.py:16: DeprecationWarning: DataFrameGroupBy.apply operated on the grouping columns. This behavior is deprecated, and in a future version of pandas the grouping columns will be excluded from the operation. Either pass `include_groups=False` to exclude the groupings or explicitly select the grouping columns after groupby to silence this warning.\n",
      "  weighted_data = curr_intersection.groupby('district').apply(compute_weighted_averages).reset_index()\n",
      "/var/folders/73/yf0vhxc16_s7l4d4j28m32bh0000gn/T/ipykernel_86729/1122421892.py:16: DeprecationWarning: DataFrameGroupBy.apply operated on the grouping columns. This behavior is deprecated, and in a future version of pandas the grouping columns will be excluded from the operation. Either pass `include_groups=False` to exclude the groupings or explicitly select the grouping columns after groupby to silence this warning.\n",
      "  weighted_data = curr_intersection.groupby('district').apply(compute_weighted_averages).reset_index()\n",
      "/var/folders/73/yf0vhxc16_s7l4d4j28m32bh0000gn/T/ipykernel_86729/1122421892.py:16: DeprecationWarning: DataFrameGroupBy.apply operated on the grouping columns. This behavior is deprecated, and in a future version of pandas the grouping columns will be excluded from the operation. Either pass `include_groups=False` to exclude the groupings or explicitly select the grouping columns after groupby to silence this warning.\n",
      "  weighted_data = curr_intersection.groupby('district').apply(compute_weighted_averages).reset_index()\n"
     ]
    }
   ],
   "source": [
    "data = []\n",
    "for year in [2014, 2016, 2018, 2020, 2022]:\n",
    "    curr_precinct_data = precinct_data[precinct_data['year'] == year].copy()\n",
    "    curr_merged_data = merged_data[merged_data['year'] == year].copy()\n",
    "\n",
    "    curr_intersection = gpd.overlay(curr_precinct_data, curr_merged_data, how='intersection')\n",
    "    curr_intersection['intersection_area'] = curr_intersection['geometry'].to_crs('EPSG:3395').area\n",
    "\n",
    "    precinct_areas = curr_precinct_data.copy()\n",
    "    precinct_areas['precinct_area'] = precinct_areas['geometry'].to_crs('EPSG:3395').area\n",
    "    precinct_areas = precinct_areas[['district', 'precinct_area']]\n",
    "\n",
    "    curr_intersection = curr_intersection.merge(precinct_areas, on='district')\n",
    "    curr_intersection['area_ratio'] = curr_intersection['intersection_area'] / curr_intersection['precinct_area']\n",
    "\n",
    "    weighted_data = curr_intersection.groupby('district').apply(compute_weighted_averages).reset_index()\n",
    "    data.append(weighted_data)\n",
    "\n",
    "final_data = pd.concat(data)"
   ]
  },
  {
   "cell_type": "code",
   "execution_count": 7,
   "metadata": {},
   "outputs": [],
   "source": [
    "final_data.to_csv('final_data.csv', index=False)"
   ]
  }
 ],
 "metadata": {
  "kernelspec": {
   "display_name": "Python 3",
   "language": "python",
   "name": "python3"
  },
  "language_info": {
   "codemirror_mode": {
    "name": "ipython",
    "version": 3
   },
   "file_extension": ".py",
   "mimetype": "text/x-python",
   "name": "python",
   "nbconvert_exporter": "python",
   "pygments_lexer": "ipython3",
   "version": "3.11.10"
  }
 },
 "nbformat": 4,
 "nbformat_minor": 2
}
